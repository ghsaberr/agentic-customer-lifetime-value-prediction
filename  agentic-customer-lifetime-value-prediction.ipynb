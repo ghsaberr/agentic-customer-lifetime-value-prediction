{
 "cells": [
  {
   "cell_type": "markdown",
   "id": "e3a76a0d-ee92-4002-995c-89b982c174f1",
   "metadata": {},
   "source": [
    "# Agentic Customer Lifetime Value (LTV) Prediction"
   ]
  }
 ],
 "metadata": {
  "kernelspec": {
   "display_name": "Python 3 (ipykernel)",
   "language": "python",
   "name": "python3"
  },
  "language_info": {
   "codemirror_mode": {
    "name": "ipython",
    "version": 3
   },
   "file_extension": ".py",
   "mimetype": "text/x-python",
   "name": "python",
   "nbconvert_exporter": "python",
   "pygments_lexer": "ipython3",
   "version": "3.11.1"
  }
 },
 "nbformat": 4,
 "nbformat_minor": 5
}
